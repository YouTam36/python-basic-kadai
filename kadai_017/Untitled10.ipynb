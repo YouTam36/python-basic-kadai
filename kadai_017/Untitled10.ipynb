{
  "nbformat": 4,
  "nbformat_minor": 0,
  "metadata": {
    "colab": {
      "provenance": []
    },
    "kernelspec": {
      "name": "python3",
      "display_name": "Python 3"
    },
    "language_info": {
      "name": "python"
    }
  },
  "cells": [
    {
      "cell_type": "code",
      "execution_count": 2,
      "metadata": {
        "colab": {
          "base_uri": "https://localhost:8080/"
        },
        "id": "5lfhS_-oeO8V",
        "outputId": "effd782c-0a03-4cd4-86dc-fcbdad7f2656"
      },
      "outputs": [
        {
          "output_type": "stream",
          "name": "stdout",
          "text": [
            "rin is not an adult\n",
            "taichiro is not an adult\n",
            "tomo is an adult\n"
          ]
        }
      ],
      "source": [
        "class Human:\n",
        "  def __init__(self, name, age):\n",
        "      self.name = name\n",
        "      self.age = age\n",
        "\n",
        "  def check_adult(self):\n",
        "      if self.age >= 20:\n",
        "          print(f\"{self.name} is an adult\")\n",
        "      else:\n",
        "          print(f\"{self.name} is not an adult\")\n",
        "\n",
        "humans = [Human(\"rin\", 5), Human(\"taichiro\", 8), Human(\"tomo\", 37)]\n",
        "\n",
        "for human in humans:\n",
        "    human.check_adult()"
      ]
    },
    {
      "cell_type": "code",
      "source": [],
      "metadata": {
        "id": "0E5aBZNwfQQ7"
      },
      "execution_count": null,
      "outputs": []
    }
  ]
}