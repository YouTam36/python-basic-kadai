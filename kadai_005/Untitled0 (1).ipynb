{
  "nbformat": 4,
  "nbformat_minor": 0,
  "metadata": {
    "colab": {
      "provenance": []
    },
    "kernelspec": {
      "name": "python3",
      "display_name": "Python 3"
    },
    "language_info": {
      "name": "python"
    }
  },
  "cells": [
    {
      "cell_type": "markdown",
      "source": [],
      "metadata": {
        "id": "3hk2dsUfYY9Q"
      }
    },
    {
      "cell_type": "code",
      "source": [
        "jouhen = 10\n",
        "kahen  = 20\n",
        "takasa = 5\n",
        "kotae = (jouhen + kahen) * takasa /2\n",
        "print(f\"台形の面積は{kotae}cm²です。\")"
      ],
      "metadata": {
        "colab": {
          "base_uri": "https://localhost:8080/"
        },
        "id": "z50fAksxUC8L",
        "outputId": "b70d3976-6a7e-4a26-a3ad-b6257f9958e8"
      },
      "execution_count": 1,
      "outputs": [
        {
          "output_type": "stream",
          "name": "stdout",
          "text": [
            "台形の面積は75.0cm²です。\n"
          ]
        }
      ]
    }
  ]
}