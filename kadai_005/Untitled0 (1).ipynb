{
  "nbformat": 4,
  "nbformat_minor": 0,
  "metadata": {
    "colab": {
      "provenance": []
    },
    "kernelspec": {
      "name": "python3",
      "display_name": "Python 3"
    },
    "language_info": {
      "name": "python"
    }
  },
  "cells": [
    {
      "cell_type": "markdown",
      "source": [],
      "metadata": {
        "id": "3hk2dsUfYY9Q"
      }
    },
    {
      "cell_type": "code",
      "source": [
        "jouhen = 10\n",
        "kahen  = 20\n",
        "takasa = 5\n",
        "kotae = (jouhen + kahen) * takasa /2\n",
        "print(f\"台形の面積は{kotae}㎠です。\")"
      ],
      "metadata": {
        "colab": {
          "base_uri": "https://localhost:8080/"
        },
        "id": "z50fAksxUC8L",
        "outputId": "5d8ba117-5906-4edc-ab05-e7a98b86b6fb"
      },
      "execution_count": null,
      "outputs": [
        {
          "output_type": "stream",
          "name": "stdout",
          "text": [
            "台形の面積は75.0㎠です。\n"
          ]
        }
      ]
    }
  ]
}