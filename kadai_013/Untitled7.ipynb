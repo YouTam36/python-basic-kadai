{
  "nbformat": 4,
  "nbformat_minor": 0,
  "metadata": {
    "colab": {
      "provenance": []
    },
    "kernelspec": {
      "name": "python3",
      "display_name": "Python 3"
    },
    "language_info": {
      "name": "python"
    }
  },
  "cells": [
    {
      "cell_type": "code",
      "execution_count": 5,
      "metadata": {
        "colab": {
          "base_uri": "https://localhost:8080/"
        },
        "id": "0M6Wir8-M0DF",
        "outputId": "7d620d37-f8bd-4899-cf9e-b1b1981020f6"
      },
      "outputs": [
        {
          "output_type": "stream",
          "name": "stdout",
          "text": [
            "110.0円\n"
          ]
        }
      ],
      "source": [
        "def price_tax(price, tax_rate=0.1):\n",
        "    tax_amount = price * tax_rate\n",
        "    total_price = price + tax_amount\n",
        "    return total_price\n",
        "\n",
        "total_price = price_tax(100)\n",
        "print(f\"{total_price}円\")\n"
      ]
    },
    {
      "cell_type": "code",
      "source": [],
      "metadata": {
        "id": "kQueFEkzQZbV"
      },
      "execution_count": null,
      "outputs": []
    }
  ]
}