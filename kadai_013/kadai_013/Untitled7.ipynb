{
  "nbformat": 4,
  "nbformat_minor": 0,
  "metadata": {
    "colab": {
      "provenance": []
    },
    "kernelspec": {
      "name": "python3",
      "display_name": "Python 3"
    },
    "language_info": {
      "name": "python"
    }
  },
  "cells": [
    {
      "cell_type": "code",
      "execution_count": 4,
      "metadata": {
        "id": "0M6Wir8-M0DF",
        "colab": {
          "base_uri": "https://localhost:8080/"
        },
        "outputId": "75876841-afd4-4ac3-dbbb-543979d993ed"
      },
      "outputs": [
        {
          "output_type": "stream",
          "name": "stdout",
          "text": [
            "121.0円\n"
          ]
        }
      ],
      "source": [
        "def calculate_price(price, tax):\n",
        "  total = price + (price * tax / 100)\n",
        "  return total\n",
        "\n",
        "result = calculate_price(110, 10)\n",
        "\n",
        "print(f\"{result}円\")"
      ]
    },
    {
      "cell_type": "code",
      "source": [],
      "metadata": {
        "id": "kQueFEkzQZbV"
      },
      "execution_count": null,
      "outputs": []
    },
    {
      "cell_type": "code",
      "source": [],
      "metadata": {
        "id": "l70B-iopvKSs"
      },
      "execution_count": null,
      "outputs": []
    }
  ]
}